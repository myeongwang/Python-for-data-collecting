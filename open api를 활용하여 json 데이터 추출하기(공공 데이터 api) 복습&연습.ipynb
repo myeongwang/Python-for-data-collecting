{
 "cells": [
  {
   "cell_type": "code",
   "execution_count": 2,
   "metadata": {},
   "outputs": [],
   "source": [
    "import requests"
   ]
  },
  {
   "cell_type": "code",
   "execution_count": 3,
   "metadata": {},
   "outputs": [],
   "source": [
    "servicekey ='oiIdE68u8I5KHaOPqe6rBtIsDZvRwCXruUdyh4a3T9BljNqv2TvaUixLYTu10AccHfa9fzJrJcKdIebG6S89gg%3D%3D'"
   ]
  },
  {
   "cell_type": "code",
   "execution_count": 4,
   "metadata": {},
   "outputs": [
    {
     "name": "stdout",
     "output_type": "stream",
     "text": [
      "http://api.visitkorea.or.kr/openapi/service/rest/EngService/areaCode?serviceKey=oiIdE68u8I5KHaOPqe6rBtIsDZvRwCXruUdyh4a3T9BljNqv2TvaUixLYTu10AccHfa9fzJrJcKdIebG6S89gg%3D%3D&numOfRows=10&pageSize=10&pageNo=1&MobileOS=ETC&MobileApp=AppTest&_type=json\n"
     ]
    }
   ],
   "source": [
    "\n",
    "endpoint = 'http://api.visitkorea.or.kr/openapi/service/rest/EngService/areaCode?serviceKey={}&numOfRows=10&pageSize=10&pageNo=1&MobileOS=ETC&MobileApp=AppTest&_type=json'.format(servicekey,1)\n",
    "\n",
    "print(endpoint)"
   ]
  },
  {
   "cell_type": "code",
   "execution_count": 9,
   "metadata": {},
   "outputs": [
    {
     "name": "stdout",
     "output_type": "stream",
     "text": [
      "200\n",
      "{\"response\":{\"header\":{\"resultCode\":\"0000\",\"resultMsg\":\"OK\"},\"body\":{\"items\":{\"item\":[{\"code\":1,\"name\":\"Seoul\",\"rnum\":1},{\"code\":2,\"name\":\"Incheon\",\"rnum\":2},{\"code\":3,\"name\":\"Daejeon\",\"rnum\":3},{\"code\":4,\"name\":\"Daegu\",\"rnum\":4},{\"code\":5,\"name\":\"Gwangju\",\"rnum\":5},{\"code\":6,\"name\":\"Busan\",\"rnum\":6},{\"code\":7,\"name\":\"Ulsan\",\"rnum\":7},{\"code\":8,\"name\":\"Sejong\",\"rnum\":8},{\"code\":31,\"name\":\"Gyeonggi-do\",\"rnum\":9},{\"code\":32,\"name\":\"Gangwon-do\",\"rnum\":10}]},\"numOfRows\":10,\"pageNo\":1,\"totalCount\":17}}}\n"
     ]
    }
   ],
   "source": [
    "endpoint = 'http://api.visitkorea.or.kr/openapi/service/rest/EngService/areaCode?serviceKey={}&numOfRows=10&pageSize=10&pageNo=1&MobileOS=ETC&MobileApp=AppTest&_type=json'.format(servicekey,1)\n",
    "resp= requests.get(endpoint)\n",
    "\n",
    "print(resp.status_code)\n",
    "print(resp.text)"
   ]
  },
  {
   "cell_type": "code",
   "execution_count": null,
   "metadata": {},
   "outputs": [],
   "source": []
  },
  {
   "cell_type": "code",
   "execution_count": null,
   "metadata": {},
   "outputs": [],
   "source": []
  }
 ],
 "metadata": {
  "kernelspec": {
   "display_name": "Python 3",
   "language": "python",
   "name": "python3"
  },
  "language_info": {
   "codemirror_mode": {
    "name": "ipython",
    "version": 3
   },
   "file_extension": ".py",
   "mimetype": "text/x-python",
   "name": "python",
   "nbconvert_exporter": "python",
   "pygments_lexer": "ipython3",
   "version": "3.7.6"
  }
 },
 "nbformat": 4,
 "nbformat_minor": 2
}
