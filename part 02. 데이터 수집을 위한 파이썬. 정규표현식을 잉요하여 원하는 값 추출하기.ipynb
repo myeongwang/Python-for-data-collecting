{
 "cells": [
  {
   "cell_type": "markdown",
   "metadata": {},
   "source": [
    "# -정규표현식 tag 찾기"
   ]
  },
  {
   "cell_type": "code",
   "execution_count": 4,
   "metadata": {},
   "outputs": [],
   "source": [
    "import re\n",
    "import requests\n",
    "from bs4 import BeautifulSoup"
   ]
  },
  {
   "cell_type": "code",
   "execution_count": 12,
   "metadata": {},
   "outputs": [],
   "source": [
    "url =' https://news.v.daum.net/v/20190728165812603'\n",
    "\n",
    "resp=requests.get(url)\n",
    "\n",
    "soup=BeautifulSoup(resp.text)\n"
   ]
  },
  {
   "cell_type": "code",
   "execution_count": 16,
   "metadata": {},
   "outputs": [
    {
     "data": {
      "text/plain": [
       "[<h2 class=\"screen_out\">검색</h2>,\n",
       " <h2 class=\"screen_out\">뉴스 메인메뉴</h2>,\n",
       " <h2 class=\"screen_out\" id=\"kakaoBody\">IT</h2>,\n",
       " <h2 class=\"tit_direct\">바로가기</h2>,\n",
       " <h2 class=\"screen_out\">서비스 이용정보</h2>]"
      ]
     },
     "execution_count": 16,
     "metadata": {},
     "output_type": "execute_result"
    }
   ],
   "source": [
    "soup.find_all('h1')\n",
    "soup.find_all('h2')   # 이런  식으로 하나하나 받아올 수 도 있겠지만. re.compile 활용하여"
   ]
  },
  {
   "cell_type": "markdown",
   "metadata": {},
   "source": [
    "# 댓글 개수 추출\n",
    "\n",
    "- 댓글의 경우, 최초 로딩시에 전달되지 않음.\n",
    "- 이 경우는 추가적으로 AJAX로 비동기적 호출을 하여 따로 data 전송을 함.\n",
    "    - 개발자 도구의 network 탭에서 확인(XHR: XmlHTTP Request)\n",
    "    - 비동기적 호출: 사이트의 전체가 아닌 일부분만 업데이트 가능하도록 함."
   ]
  },
  {
   "cell_type": "code",
   "execution_count": 15,
   "metadata": {},
   "outputs": [
    {
     "data": {
      "text/plain": [
       "[<h1> <a class=\"link_daum\" href=\"https://www.daum.net/\"> <img alt=\"Daum\" class=\"thumb_g\" height=\"19\" src=\"//t1.daumcdn.net/media/news/news2016/retina/logo_daum.jpg\" width=\"45\"/> </a> <a href=\"https://media.daum.net/\" id=\"kakaoServiceLogo\"><span class=\"ir_wa\">뉴스</span></a> </h1>,\n",
       " <h2 class=\"screen_out\">검색</h2>,\n",
       " <h2 class=\"screen_out\">뉴스 메인메뉴</h2>,\n",
       " <h2 class=\"screen_out\" id=\"kakaoBody\">IT</h2>,\n",
       " <h3 class=\"tit_view\" data-translation=\"\">일론머스크 \"테슬라에서 넷플릭스·유튜브 즐길 날 온다\"</h3>,\n",
       " <h3 class=\"txt_newsview\" data-reactid=\".vgcj6kvku2.0\">많이본 뉴스</h3>,\n",
       " <h3 class=\"txt_newsview\">포토&amp;TV</h3>,\n",
       " <h3 class=\"txt_newsview\">실시간 이슈</h3>,\n",
       " <h3 class=\"txt_newsview\">이 시각 추천뉴스</h3>,\n",
       " <h3 class=\"txt_newsview\">실시간 주요이슈</h3>,\n",
       " <h2 class=\"tit_direct\">바로가기</h2>,\n",
       " <h2 class=\"screen_out\">서비스 이용정보</h2>]"
      ]
     },
     "execution_count": 15,
     "metadata": {},
     "output_type": "execute_result"
    }
   ],
   "source": [
    "soup.find_all(re.compile('h\\d')) #태그가 다 h하고 숫자 이므로 "
   ]
  },
  {
   "cell_type": "code",
   "execution_count": 17,
   "metadata": {},
   "outputs": [
    {
     "data": {
      "text/plain": [
       "[<img alt=\"Daum\" class=\"thumb_g\" height=\"19\" src=\"//t1.daumcdn.net/media/news/news2016/retina/logo_daum.jpg\" width=\"45\"/>,\n",
       " <img alt=\"아시아경제\" class=\"thumb_g\" src=\"https://t1.daumcdn.net/media/news/news2016/cp/cp_akn.gif\"/>,\n",
       " <img alt=\"일론 머스크 테슬라 최고경영자(CEO) [이미지출처=로이터연합뉴스]\" class=\"thumb_g_article\" dmcf-mid=\"NBMY3ZZhN4\" dmcf-mtype=\"image\" height=\"366\" src=\"https://t1.daumcdn.net/news/201907/28/akn/20190728165813230vjsq.jpg\" width=\"550\"/>,\n",
       " <img alt=\"(출처=일론 머스크 트위터 계정 캡쳐)\" class=\"thumb_g_article\" dmcf-mid=\"NRhnb5SRpx\" dmcf-mtype=\"image\" height=\"352\" src=\"https://t1.daumcdn.net/news/201907/28/akn/20190728165813670hwxf.png\" width=\"550\"/>,\n",
       " <img alt=\"애국가 부르는 정세균 신임 국무총리\" class=\"thumb_g\" src=\"https://img1.daumcdn.net/thumb/S288x280.q70/?fname=https://t1.daumcdn.net/news/202001/14/yonhap/20200114164651983tcfw.jpg\"/>,\n",
       " <img alt=\"수사권 뺏기고, 조직 쪼개지고..'직제개편' 검찰은 지금\" class=\"thumb_g\" src=\"https://img1.daumcdn.net/thumb/S288x280.q70/?fname=https://t1.daumcdn.net/news/202001/14/sbsi/20200114160649877pbrd.jpg\"/>,\n",
       " <img alt=\"\" class=\"thumb_g\" height=\"54\" src=\"https://img1.daumcdn.net/thumb/S168x108.q70/?fname=https://t1.daumcdn.net/news/202001/14/newsis/20200114163945694jzur.jpg\" width=\"84\"/>,\n",
       " <img alt=\"\" class=\"thumb_g\" height=\"54\" src=\"https://img1.daumcdn.net/thumb/S168x108.q70/?fname=https://t1.daumcdn.net/news/202001/14/NEWS1/20200114162956499zmoy.jpg\" width=\"84\"/>,\n",
       " <img alt=\"\" class=\"thumb_g\" height=\"54\" src=\"https://img1.daumcdn.net/thumb/S168x108.q70/?fname=https://t1.daumcdn.net/news/202001/12/fnnewsi/20200112162056852jlji.jpg\" width=\"84\"/>]"
      ]
     },
     "execution_count": 17,
     "metadata": {},
     "output_type": "execute_result"
    }
   ],
   "source": [
    "soup.find_all('img')"
   ]
  },
  {
   "cell_type": "code",
   "execution_count": 19,
   "metadata": {},
   "outputs": [
    {
     "data": {
      "text/plain": [
       "[<img alt=\"Daum\" class=\"thumb_g\" height=\"19\" src=\"//t1.daumcdn.net/media/news/news2016/retina/logo_daum.jpg\" width=\"45\"/>,\n",
       " <img alt=\"일론 머스크 테슬라 최고경영자(CEO) [이미지출처=로이터연합뉴스]\" class=\"thumb_g_article\" dmcf-mid=\"NBMY3ZZhN4\" dmcf-mtype=\"image\" height=\"366\" src=\"https://t1.daumcdn.net/news/201907/28/akn/20190728165813230vjsq.jpg\" width=\"550\"/>,\n",
       " <img alt=\"애국가 부르는 정세균 신임 국무총리\" class=\"thumb_g\" src=\"https://img1.daumcdn.net/thumb/S288x280.q70/?fname=https://t1.daumcdn.net/news/202001/14/yonhap/20200114164651983tcfw.jpg\"/>,\n",
       " <img alt=\"수사권 뺏기고, 조직 쪼개지고..'직제개편' 검찰은 지금\" class=\"thumb_g\" src=\"https://img1.daumcdn.net/thumb/S288x280.q70/?fname=https://t1.daumcdn.net/news/202001/14/sbsi/20200114160649877pbrd.jpg\"/>,\n",
       " <img alt=\"\" class=\"thumb_g\" height=\"54\" src=\"https://img1.daumcdn.net/thumb/S168x108.q70/?fname=https://t1.daumcdn.net/news/202001/14/newsis/20200114163945694jzur.jpg\" width=\"84\"/>,\n",
       " <img alt=\"\" class=\"thumb_g\" height=\"54\" src=\"https://img1.daumcdn.net/thumb/S168x108.q70/?fname=https://t1.daumcdn.net/news/202001/14/NEWS1/20200114162956499zmoy.jpg\" width=\"84\"/>,\n",
       " <img alt=\"\" class=\"thumb_g\" height=\"54\" src=\"https://img1.daumcdn.net/thumb/S168x108.q70/?fname=https://t1.daumcdn.net/news/202001/12/fnnewsi/20200112162056852jlji.jpg\" width=\"84\"/>]"
      ]
     },
     "execution_count": 19,
     "metadata": {},
     "output_type": "execute_result"
    }
   ],
   "source": [
    "soup.find_all('img',attrs={'src': re.compile('.+\\.jpg')})"
   ]
  },
  {
   "cell_type": "code",
   "execution_count": 21,
   "metadata": {},
   "outputs": [
    {
     "data": {
      "text/plain": [
       "[<h3 class=\"tit_view\" data-translation=\"\">일론머스크 \"테슬라에서 넷플릭스·유튜브 즐길 날 온다\"</h3>,\n",
       " <h3 class=\"txt_newsview\" data-reactid=\".vgcj6kvku2.0\">많이본 뉴스</h3>,\n",
       " <h3 class=\"txt_newsview\">포토&amp;TV</h3>,\n",
       " <h3 class=\"txt_newsview\">실시간 이슈</h3>,\n",
       " <h3 class=\"txt_newsview\">이 시각 추천뉴스</h3>,\n",
       " <h3 class=\"txt_newsview\">실시간 주요이슈</h3>]"
      ]
     },
     "execution_count": 21,
     "metadata": {},
     "output_type": "execute_result"
    }
   ],
   "source": [
    "soup.find_all('h3',class_=re.compile('.+view$'))"
   ]
  },
  {
   "cell_type": "code",
   "execution_count": 22,
   "metadata": {},
   "outputs": [
    {
     "data": {
      "text/plain": [
       "[<h3 class=\"txt_newsview\" data-reactid=\".vgcj6kvku2.0\">많이본 뉴스</h3>,\n",
       " <h3 class=\"txt_newsview\">포토&amp;TV</h3>,\n",
       " <h3 class=\"txt_newsview\">실시간 이슈</h3>,\n",
       " <h3 class=\"txt_newsview\">이 시각 추천뉴스</h3>,\n",
       " <h3 class=\"txt_newsview\">실시간 주요이슈</h3>]"
      ]
     },
     "execution_count": 22,
     "metadata": {},
     "output_type": "execute_result"
    }
   ],
   "source": [
    "soup.find_all('h3',class_=re.compile('.+newsview$'))"
   ]
  },
  {
   "cell_type": "code",
   "execution_count": 35,
   "metadata": {},
   "outputs": [
    {
     "data": {
      "text/plain": [
       "[<h3 class=\"txt_newsview\" data-reactid=\".vgcj6kvku2.0\">많이본 뉴스</h3>,\n",
       " <h3 class=\"txt_newsview\">포토&amp;TV</h3>,\n",
       " <h3 class=\"txt_newsview\">실시간 이슈</h3>,\n",
       " <h3 class=\"txt_newsview\">이 시각 추천뉴스</h3>,\n",
       " <h3 class=\"txt_newsview\">실시간 주요이슈</h3>]"
      ]
     },
     "execution_count": 35,
     "metadata": {},
     "output_type": "execute_result"
    }
   ],
   "source": [
    "soup.find_all('h3',class_=re.compile('^.+.news'))"
   ]
  },
  {
   "cell_type": "code",
   "execution_count": null,
   "metadata": {},
   "outputs": [],
   "source": []
  }
 ],
 "metadata": {
  "kernelspec": {
   "display_name": "Python 3",
   "language": "python",
   "name": "python3"
  },
  "language_info": {
   "codemirror_mode": {
    "name": "ipython",
    "version": 3
   },
   "file_extension": ".py",
   "mimetype": "text/x-python",
   "name": "python",
   "nbconvert_exporter": "python",
   "pygments_lexer": "ipython3",
   "version": "3.7.4"
  }
 },
 "nbformat": 4,
 "nbformat_minor": 2
}
