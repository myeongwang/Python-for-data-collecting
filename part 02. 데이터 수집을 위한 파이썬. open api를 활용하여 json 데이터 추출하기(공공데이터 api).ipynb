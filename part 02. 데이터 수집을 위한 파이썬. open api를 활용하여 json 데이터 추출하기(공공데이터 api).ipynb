{
 "cells": [
  {
   "cell_type": "code",
   "execution_count": 4,
   "metadata": {},
   "outputs": [],
   "source": [
    "import requests"
   ]
  },
  {
   "cell_type": "raw",
   "metadata": {},
   "source": [
    "# 학습목표\n",
    "\n",
    "1. open api 사용하여 데이터 획득하기"
   ]
  },
  {
   "cell_type": "markdown",
   "metadata": {},
   "source": [
    "# 공공데이터 포털 open api 사용하기\n",
    "\n",
    "1. 공공데이터 포털 회원가입/로그인(https://www.data.go.kr/)\n",
    "2.api 사용 요청/ 키 발급\n",
    "3. api 문서(specification) 확인\n",
    "4. api테스트 및 개발"
   ]
  },
  {
   "cell_type": "code",
   "execution_count": null,
   "metadata": {},
   "outputs": [],
   "source": []
  },
  {
   "cell_type": "code",
   "execution_count": null,
   "metadata": {},
   "outputs": [],
   "source": []
  },
  {
   "cell_type": "code",
   "execution_count": null,
   "metadata": {},
   "outputs": [],
   "source": []
  },
  {
   "cell_type": "code",
   "execution_count": null,
   "metadata": {},
   "outputs": [],
   "source": []
  },
  {
   "cell_type": "markdown",
   "metadata": {},
   "source": [
    "# Endpoint 확인하기\n",
    "\n",
    "- api가 서비스되는 서버의 ip혹은 domain 주소\n"
   ]
  },
  {
   "cell_type": "code",
   "execution_count": 5,
   "metadata": {},
   "outputs": [
    {
     "name": "stdout",
     "output_type": "stream",
     "text": [
      "http://api.visitkorea.or.kr/openapi/service/rest/EngService/areaCode?serviceKey=oiIdE68u8I5KHaOPqe6rBtIsDZvRwCXruUdyh4a3T9BljNqv2TvaUixLYTu10AccHfa9fzJrJcKdIebG6S89gg%3D%3D&numOfRows=10&pageSize=10&pageNo=1&MobileOS=ETC&MobileApp=AppTest\n"
     ]
    }
   ],
   "source": [
    "endpoint='http://api.visitkorea.or.kr/openapi/service/rest/EngService/areaCode?serviceKey={}&numOfRows=10&pageSize=10&pageNo=1&MobileOS=ETC&MobileApp=AppTest'.format(serviceKey)\n",
    "\n",
    "print(endpoint)"
   ]
  },
  {
   "cell_type": "markdown",
   "metadata": {},
   "source": [
    "\n",
    "\n",
    "# json type"
   ]
  },
  {
   "cell_type": "code",
   "execution_count": 6,
   "metadata": {},
   "outputs": [
    {
     "name": "stdout",
     "output_type": "stream",
     "text": [
      "http://api.visitkorea.or.kr/openapi/service/rest/EngService/areaCode?serviceKey=oiIdE68u8I5KHaOPqe6rBtIsDZvRwCXruUdyh4a3T9BljNqv2TvaUixLYTu10AccHfa9fzJrJcKdIebG6S89gg%3D%3D&numOfRows=10&pageSize=10&pageNo=1&MobileOS=ETC&MobileApp=AppTest&_type=json\n"
     ]
    }
   ],
   "source": [
    "endpoint='http://api.visitkorea.or.kr/openapi/service/rest/EngService/areaCode?serviceKey={}&numOfRows=10&pageSize=10&pageNo=1&MobileOS=ETC&MobileApp=AppTest&_type=json'.format(serviceKey)\n",
    "\n",
    "print(endpoint)"
   ]
  },
  {
   "cell_type": "markdown",
   "metadata": {},
   "source": [
    "\n",
    "# key 값 확인하기\n",
    "\n",
    "- 서비스 호출 트래킹할 목적이나 악의적인 사용을 금지할 목적\n",
    "- 새로 발급받은 키는 1시간 이후 사용 가능?? 아닌것 같은뎅"
   ]
  },
  {
   "cell_type": "code",
   "execution_count": 7,
   "metadata": {},
   "outputs": [],
   "source": [
    "serviceKey='oiIdE68u8I5KHaOPqe6rBtIsDZvRwCXruUdyh4a3T9BljNqv2TvaUixLYTu10AccHfa9fzJrJcKdIebG6S89gg%3D%3D'"
   ]
  },
  {
   "cell_type": "markdown",
   "metadata": {},
   "source": [
    "# parameter 확인하기\n",
    "\n",
    "- api 호출에 필요한 parameter 값 확인 및 구성"
   ]
  },
  {
   "cell_type": "code",
   "execution_count": 8,
   "metadata": {},
   "outputs": [
    {
     "name": "stdout",
     "output_type": "stream",
     "text": [
      "200\n",
      "{\"response\":{\"header\":{\"resultCode\":\"0000\",\"resultMsg\":\"OK\"},\"body\":{\"items\":{\"item\":[{\"code\":1,\"name\":\"Seoul\",\"rnum\":1},{\"code\":2,\"name\":\"Incheon\",\"rnum\":2},{\"code\":3,\"name\":\"Daejeon\",\"rnum\":3},{\"code\":4,\"name\":\"Daegu\",\"rnum\":4},{\"code\":5,\"name\":\"Gwangju\",\"rnum\":5},{\"code\":6,\"name\":\"Busan\",\"rnum\":6},{\"code\":7,\"name\":\"Ulsan\",\"rnum\":7},{\"code\":8,\"name\":\"Sejong\",\"rnum\":8},{\"code\":31,\"name\":\"Gyeonggi-do\",\"rnum\":9},{\"code\":32,\"name\":\"Gangwon-do\",\"rnum\":10}]},\"numOfRows\":10,\"pageNo\":1,\"totalCount\":17}}}\n"
     ]
    }
   ],
   "source": [
    "endpoint='http://api.visitkorea.or.kr/openapi/service/rest/EngService/areaCode?serviceKey={}&numOfRows=10&pageSize=10&pageNo={}&MobileOS=ETC&MobileApp=AppTest&_type=json'.format(serviceKey, 1)\n",
    "resp= requests.get(endpoint)\n",
    "\n",
    "print(resp.status_code) # 홈페이지의 응답코드\n",
    "print(resp.text)"
   ]
  },
  {
   "cell_type": "markdown",
   "metadata": {},
   "source": [
    "# 요청 및 response 확인\n",
    "\n",
    "- requests 모듈을 활용하여 api 호출\n",
    "- response 확인하여 원하는 정보 추출\n",
    "- json 데이터의 경우, python dictionary로 변경하여 사용가능"
   ]
  },
  {
   "cell_type": "code",
   "execution_count": null,
   "metadata": {},
   "outputs": [],
   "source": []
  }
 ],
 "metadata": {
  "kernelspec": {
   "display_name": "Python 3",
   "language": "python",
   "name": "python3"
  },
  "language_info": {
   "codemirror_mode": {
    "name": "ipython",
    "version": 3
   },
   "file_extension": ".py",
   "mimetype": "text/x-python",
   "name": "python",
   "nbconvert_exporter": "python",
   "pygments_lexer": "ipython3",
   "version": "3.7.4"
  }
 },
 "nbformat": 4,
 "nbformat_minor": 2
}
